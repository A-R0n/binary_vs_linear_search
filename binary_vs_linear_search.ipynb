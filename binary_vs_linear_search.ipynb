{
 "cells": [
  {
   "cell_type": "markdown",
   "id": "7a1a4e5f-50b8-4146-9518-d38a263e7ebe",
   "metadata": {},
   "source": [
    "# Background"
   ]
  },
  {
   "cell_type": "markdown",
   "id": "ff1b4e02-f64c-4174-8aaa-3fb17b11f924",
   "metadata": {},
   "source": [
    "### - As companies grow over time, so does the amount of data they own. Because of this, it becomes increasingly necessary to develop efficient algorithms and update existing ones. One such example is using a binary search over a linear search. A linear search involves looking up elements in a list and returning the first match whereas a binary search keeps dividing a (sorted) list in half until its exhausted.\n",
    "\n",
    "### - Consider this. Do you remember when you were younger we had those big phone books? If you wanted to look up the number for Nike, you wouldn't start on the first page, right? You would likely open the book somewhere close to the middle, and continue dividing the rest in half until you found it. This is a binary search. It is a smarter approach for looking up data."
   ]
  },
  {
   "cell_type": "markdown",
   "id": "049f8bf0-1d93-4d42-b042-4aeff94f3561",
   "metadata": {},
   "source": [
    "# Problem"
   ]
  },
  {
   "cell_type": "markdown",
   "id": "3cbd9f43-db56-4c82-b378-c67eaf4b62d0",
   "metadata": {},
   "source": [
    "### - What is the Big O notation for searching an element in an array list? How does this compare to a binary search?\n",
    "\n",
    "##### - _Answer: O(n); 0(log N)_"
   ]
  },
  {
   "cell_type": "markdown",
   "id": "57cfd953-bf8e-491b-8970-d798d48d4b01",
   "metadata": {},
   "source": [
    "# Step 1: Use Spark to read and structure our data"
   ]
  },
  {
   "cell_type": "code",
   "execution_count": 1,
   "id": "988b85a4-560c-4c43-8011-4cb2fc55dbc6",
   "metadata": {},
   "outputs": [],
   "source": [
    "from pyspark.sql import SparkSession, dataframe\n",
    "from pandas.core import frame, series\n",
    "from typing import List\n",
    "from time import time "
   ]
  },
  {
   "cell_type": "code",
   "execution_count": 2,
   "id": "9c72e7a3-679a-4d6b-9f12-08ad81221527",
   "metadata": {},
   "outputs": [],
   "source": [
    "appName = 'nike'\n",
    "pto = 'shoes.csv'\n",
    "user_input_example_true = 'Nike Pegasus Turbo'\n",
    "user_input_example_false = 'Nike Pegisus Turbo'"
   ]
  },
  {
   "cell_type": "code",
   "execution_count": 3,
   "id": "b595ddf4-12b1-453d-a073-85f0409e9ff8",
   "metadata": {},
   "outputs": [],
   "source": [
    "def build_spark_session() -> SparkSession:\n",
    "    return SparkSession.builder.appName(appName).getOrCreate()\n",
    "\n",
    "def read_shoe_data() -> dataframe.DataFrame:\n",
    "    return spark.read.csv(pto, sep=',', inferSchema=True, header=True)\n",
    "\n",
    "def convert_to_pandas_df(shoes: dataframe.DataFrame) -> frame.DataFrame:\n",
    "    return shoes.toPandas()\n",
    "\n",
    "def extract_shoes_from_df(df: frame.DataFrame) -> series.Series:\n",
    "    return df.shoes\n",
    "\n",
    "def convert_series_to_list(shoes_series: series.Series) -> List[str]:\n",
    "    return list(shoes_series)"
   ]
  },
  {
   "cell_type": "code",
   "execution_count": 4,
   "id": "aa9ee836-06c1-4ea5-9730-986bca15c365",
   "metadata": {},
   "outputs": [
    {
     "name": "stderr",
     "output_type": "stream",
     "text": [
      "Setting default log level to \"WARN\".\n",
      "To adjust logging level use sc.setLogLevel(newLevel). For SparkR, use setLogLevel(newLevel).\n",
      "23/11/02 18:04:17 WARN NativeCodeLoader: Unable to load native-hadoop library for your platform... using builtin-java classes where applicable\n",
      "23/11/02 18:04:20 WARN CSVHeaderChecker: CSV header does not conform to the schema.\n",
      " Header: , shoes\n",
      " Schema: _c0, shoes\n",
      "Expected: _c0 but found: \n",
      "CSV file: file:///Users/aaronestes/projects/nike/shoes.csv\n"
     ]
    }
   ],
   "source": [
    "spark = build_spark_session()\n",
    "shoes = read_shoe_data()\n",
    "df = convert_to_pandas_df(shoes)\n",
    "shoes_series = extract_shoes_from_df(df)\n",
    "shoes_list = convert_series_to_list(shoes_series)"
   ]
  },
  {
   "cell_type": "markdown",
   "id": "86d167d3-79a4-45ca-b56c-ccef3f553391",
   "metadata": {},
   "source": [
    "# Step 2: Compare Performance of Linear Search with Binary Search"
   ]
  },
  {
   "cell_type": "code",
   "execution_count": 5,
   "id": "15722344-6baf-4272-bd9f-fd9d2cc0aaa3",
   "metadata": {},
   "outputs": [],
   "source": [
    "def timer(func): \n",
    "    def wrap_func(*args, **kwargs): \n",
    "        t1 = time() \n",
    "        result = func(*args, **kwargs) \n",
    "        t2 = time() \n",
    "        print(f'Function {func.__name__!r} executed in {float(t2-t1)} seconds') \n",
    "        return result \n",
    "    return wrap_func "
   ]
  },
  {
   "cell_type": "code",
   "execution_count": 6,
   "id": "72c69b0d-adef-4c71-8061-f37bbca1c2c7",
   "metadata": {},
   "outputs": [],
   "source": [
    "## linear search\n",
    "@timer\n",
    "def one_at_a_time(shoes, shoe):\n",
    "    for s in shoes:\n",
    "        if s == shoe:\n",
    "            return True\n",
    "    return False"
   ]
  },
  {
   "cell_type": "code",
   "execution_count": 7,
   "id": "5b026e12-0819-4b16-aeeb-2dcb14dbe09e",
   "metadata": {},
   "outputs": [],
   "source": [
    "## binary search\n",
    "@timer\n",
    "def divide_and_conquer(shoes, shoe):\n",
    "    left = 0\n",
    "    right = len(shoes) - 1\n",
    "\n",
    "    while left <= right:\n",
    "        middle = (left + right) // 2\n",
    "\n",
    "        if shoe > shoes[middle]:\n",
    "            left = middle + 1\n",
    "        elif shoe < shoes[middle]:\n",
    "            right = middle - 1\n",
    "        else:\n",
    "            return True\n",
    "    return False"
   ]
  },
  {
   "cell_type": "code",
   "execution_count": 8,
   "id": "8484a9ad-b174-4baf-b028-ea43f6552735",
   "metadata": {},
   "outputs": [
    {
     "name": "stdout",
     "output_type": "stream",
     "text": [
      "Function 'one_at_a_time' executed in 2.86102294921875e-06 seconds\n",
      "Function 'divide_and_conquer' executed in 2.1457672119140625e-06 seconds\n"
     ]
    }
   ],
   "source": [
    "## compare the perfomance when the input is valid\n",
    "is_shoe_valid_linear_search_match = one_at_a_time(shoes_list, user_input_example_true)\n",
    "is_shoe_valid_binary_search_match = divide_and_conquer(shoes_list, user_input_example_true)"
   ]
  },
  {
   "cell_type": "code",
   "execution_count": 9,
   "id": "b6cb2242-10f4-40cd-bacb-e96d7e8d3b5b",
   "metadata": {},
   "outputs": [
    {
     "name": "stdout",
     "output_type": "stream",
     "text": [
      "Function 'one_at_a_time' executed in 4.0531158447265625e-06 seconds\n",
      "Function 'divide_and_conquer' executed in 2.1457672119140625e-06 seconds\n"
     ]
    }
   ],
   "source": [
    "## compare the perfomance when the input is invalid\n",
    "is_shoe_valid_linear_search_no_match = one_at_a_time(shoes_list, user_input_example_false)\n",
    "is_shoe_valid_binary_search_no_match = divide_and_conquer(shoes_list, user_input_example_false)"
   ]
  },
  {
   "cell_type": "code",
   "execution_count": 10,
   "id": "f3ac0442-81c7-45a2-914c-7048a35c18ca",
   "metadata": {},
   "outputs": [],
   "source": [
    "def stop_spark_session(spark: SparkSession):\n",
    "    spark.stop()\n",
    "\n",
    "stop_spark_session(spark)"
   ]
  },
  {
   "cell_type": "markdown",
   "id": "a019f901-16a7-4169-809f-fa1197516738",
   "metadata": {},
   "source": [
    "# Conclusion\n",
    "\n",
    "### - We can see that the binary search algorithm takes less time in both cases... when the input has a match AND when the input does not match. Although the dataset we are using is small, less than 300 elements, the effect becomes much more noticeable when dealing with datasets in the millions. Given that the list is sorted beforehand, it would be too expensive for us not to use the binary search."
   ]
  }
 ],
 "metadata": {
  "kernelspec": {
   "display_name": "Python 3 (ipykernel)",
   "language": "python",
   "name": "python3"
  },
  "language_info": {
   "codemirror_mode": {
    "name": "ipython",
    "version": 3
   },
   "file_extension": ".py",
   "mimetype": "text/x-python",
   "name": "python",
   "nbconvert_exporter": "python",
   "pygments_lexer": "ipython3",
   "version": "3.12.0"
  }
 },
 "nbformat": 4,
 "nbformat_minor": 5
}
